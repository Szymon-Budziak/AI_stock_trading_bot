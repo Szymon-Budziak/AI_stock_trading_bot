{
 "cells": [
  {
   "cell_type": "code",
   "execution_count": 1,
   "id": "a332f1b7",
   "metadata": {},
   "outputs": [],
   "source": [
    "import yfinance as yf\n",
    "import pandas as pd"
   ]
  },
  {
   "cell_type": "code",
   "execution_count": 2,
   "id": "d24dd52b",
   "metadata": {},
   "outputs": [],
   "source": [
    "def compute_diffs(data):\n",
    "    average_price = (data[\"Open\"] + data[\"Close\"])/2\n",
    "    data[\"average_price\"] = average_price\n",
    "    \n",
    "    for interval in range(1, 3):\n",
    "        data[\"diff_\"+str(interval)] =\\\n",
    "            data[\"average_price\"].pct_change(periods=interval)\n",
    "\n",
    "    data[\"tomorrow\"] = data[\"average_price\"].pct_change(periods=-1)\n",
    "    data.dropna(inplace=True)\n",
    "    \n",
    "    return data"
   ]
  },
  {
   "cell_type": "code",
   "execution_count": 3,
   "id": "98913416",
   "metadata": {},
   "outputs": [],
   "source": [
    "def get_historical_data(name_of_token: str):\n",
    "    token = yf.Ticker(name_of_token)\n",
    "    info = token.info[\"longBusinessSummary\"]\n",
    "    data = token.history(period=\"max\")\n",
    "    data = data[[\"Open\", \"Close\", \"High\", \"Low\"]]\n",
    "    data = compute_diffs(data)\n",
    "    print(data.head())\n",
    "    \n",
    "    return data"
   ]
  }
 ],
 "metadata": {
  "kernelspec": {
   "display_name": "Python 3",
   "language": "python",
   "name": "python3"
  },
  "language_info": {
   "codemirror_mode": {
    "name": "ipython",
    "version": 3
   },
   "file_extension": ".py",
   "mimetype": "text/x-python",
   "name": "python",
   "nbconvert_exporter": "python",
   "pygments_lexer": "ipython3",
   "version": "3.8.8"
  }
 },
 "nbformat": 4,
 "nbformat_minor": 5
}
