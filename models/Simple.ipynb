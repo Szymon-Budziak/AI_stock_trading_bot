{
 "cells": [
  {
   "cell_type": "code",
   "execution_count": 1,
   "id": "fb22524b",
   "metadata": {},
   "outputs": [],
   "source": [
    "from tensorflow import keras\n",
    "import numpy as np"
   ]
  },
  {
   "cell_type": "code",
   "execution_count": 2,
   "id": "14f9a961",
   "metadata": {},
   "outputs": [],
   "source": [
    "class Simple():\n",
    "    def __init__(self, data):\n",
    "        self.data = data\n",
    "        self.NN = keras.Sequential(\n",
    "            [\n",
    "                keras.layers.InputLayer(2),\n",
    "                keras.layers.Dense(8, activation=keras.activations.sigmoid),\n",
    "                keras.layers.Dense(8, activation=keras.activations.sigmoid),\n",
    "                keras.layers.Dense(1, activation=keras.activations.linear)\n",
    "            ]\n",
    "        )\n",
    "        self.NN.compile(optimizer=\"adam\", loss=\"mse\")\n",
    "        self.train_set = self.data.iloc[:int(len(self.data)*0.6), :]\n",
    "        self.test_set = self.data.iloc[int(len(self.data)*0.6+1):, :]\n",
    "\n",
    "    def learn(self, epochs: int):\n",
    "        results = []\n",
    "        for epoch_num in range(epochs):\n",
    "            self.NN.fit(self.train_set[[\"diff_1\", \"diff_2\"]].values,\n",
    "                        self.train_set[\"tomorrow\"].values, batch_size=32, epochs=1)\n",
    "            results.append(self.test())\n",
    "        return results\n",
    "\n",
    "    def test(self):\n",
    "        predictions = self.NN.predict(\n",
    "            self.test_set[[\"diff_1\", \"diff_2\"]].values)\n",
    "        predictions = [x[0] for x in predictions]\n",
    "        return [self.__test_quantity(predictions), self.__test_ae(predictions)]\n",
    "\n",
    "    def __test_quantity(self, predictions):\n",
    "        results = []\n",
    "        for id, element in enumerate(predictions):\n",
    "            if element > 0:\n",
    "                if self.test_set[\"tomorrow\"].values.tolist()[id] > 0:\n",
    "                    results.append(1)\n",
    "                else:\n",
    "                    results.append(0)\n",
    "            else:\n",
    "                if self.test_set[\"tomorrow\"].values.tolist()[id] < 0:\n",
    "                    results.append(1)\n",
    "                else:\n",
    "                    results.append(0)\n",
    "        print(np.sum(results)/len(predictions))\n",
    "        return np.sum(results)/len(predictions)\n",
    "\n",
    "    def __test_ae(self, predictions):\n",
    "        error = 0\n",
    "        errors = [abs(predictions[i]-self.test_set[\"tomorrow\"].values.tolist()[i])\n",
    "                  for i, _ in enumerate(predictions)]\n",
    "        error = np.mean(errors)\n",
    "        return error"
   ]
  }
 ],
 "metadata": {
  "kernelspec": {
   "display_name": "Python 3",
   "language": "python",
   "name": "python3"
  },
  "language_info": {
   "codemirror_mode": {
    "name": "ipython",
    "version": 3
   },
   "file_extension": ".py",
   "mimetype": "text/x-python",
   "name": "python",
   "nbconvert_exporter": "python",
   "pygments_lexer": "ipython3",
   "version": "3.8.8"
  }
 },
 "nbformat": 4,
 "nbformat_minor": 5
}
